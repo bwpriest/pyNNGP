{
 "cells": [
  {
   "cell_type": "markdown",
   "metadata": {},
   "source": [
    "# Scalable Gaussian Process Deep Learning\n",
    "*MADSTARE LDRD machine learning tutorials*\n",
    "\n",
    "In this tutorial we will expand upon the use of the Gaussian Process (GP) analog to wide, deep neural networks. We will use the MNIST hand-written digits data set as the example for study and compare with the performance of a neural network from the [TensorFlow library tutorial example for MNIST](https://www.tensorflow.org/tutorials), as well as an implementation of Lee, Bahri et al.'s neural network Gaussian process (nngp) [Deep Neural Networks as Gaussian Processes](https://arxiv.org/abs/1711.00165)."
   ]
  },
  {
   "cell_type": "markdown",
   "metadata": {},
   "source": [
    "## Deep Neural Networks\n"
   ]
  },
  {
   "cell_type": "markdown",
   "metadata": {},
   "source": [
    "# MNIST Image Classification\n",
    "As discussed previously, MNIST is a normalized set $\\left \\{x_i \\right \\}_{i = 1}^N$ of $N$ $d = 28 * 28 = 784$ pixel images, each associated with a single-digit numeral. We want an system that can automatically assign the correct numeral label to a previously-unseen image. "
   ]
  },
  {
   "cell_type": "code",
   "execution_count": 2,
   "metadata": {},
   "outputs": [],
   "source": [
    "import numpy as np\n",
    "import matplotlib.pyplot as plt\n",
    "%matplotlib inline\n",
    "import gpnn\n",
    "\n",
    "from jupyterthemes import jtplot\n",
    "\n",
    "# currently installed theme will be used to\n",
    "# set plot style if no arguments provided\n",
    "jtplot.style(context='notebook', fscale=1.5, figsize=(8.0, 8.0/1.618))"
   ]
  },
  {
   "cell_type": "markdown",
   "metadata": {},
   "source": [
    "We will load the MNIST dataset and display some images."
   ]
  },
  {
   "cell_type": "code",
   "execution_count": 3,
   "metadata": {},
   "outputs": [
    {
     "data": {
      "image/png": "[encoded data removed]",
      "text/plain": [
       "<Figure size 864x432 with 15 Axes>"
      ]
     },
     "metadata": {
      "needs_background": "dark"
     },
     "output_type": "display_data"
    }
   ],
   "source": [
    "import tensorflow as tf\n",
    "mnist_keras = tf.keras.datasets.mnist\n",
    "(x_train_full, y_train_full),(x_test_full, y_test_full) = mnist_keras.load_data()\n",
    "x_train_full, x_test_full = x_train_full / 255.0, x_test_full / 255.0\n",
    "\n",
    "im_nx, im_ny = x_train_full.shape[1:3]\n",
    "\n",
    "fig = plt.figure(figsize=(12,6))\n",
    "for i in range(15):\n",
    "    plt.subplot(3, 5, i+1)\n",
    "    plt.imshow(x_train_full[i,:,:], cmap=plt.cm.gray_r)"
   ]
  },
  {
   "cell_type": "markdown",
   "metadata": {},
   "source": [
    "## Neural Network Gaussian Process\n",
    "We will classify MNIST using an NNGP. "
   ]
  },
  {
   "cell_type": "code",
   "execution_count": 4,
   "metadata": {},
   "outputs": [],
   "source": [
    "def convert_to_one_hot(a, num_labels=10):\n",
    "    b = np.zeros((a.shape[0], num_labels))\n",
    "    b[np.arange(a.shape[0]), a] = 1\n",
    "    return b\n",
    "\n",
    "def get_gp_data_subset(n_train=500, n_test=500):\n",
    "    x_flat = np.row_stack((x_train_full[0:n_train, ...].reshape((n_train, im_nx*im_ny)),\n",
    "                           x_test_full[0:n_test, ...].reshape(n_test, im_nx*im_ny)))\n",
    "    return x_flat"
   ]
  },
  {
   "cell_type": "code",
   "execution_count": 5,
   "metadata": {},
   "outputs": [],
   "source": [
    "n_train = 500\n",
    "n_test = 500"
   ]
  },
  {
   "cell_type": "markdown",
   "metadata": {},
   "source": [
    "We prepare the image data for regression by stacking the flattened images and normalizing each row of the data array to have constant variance."
   ]
  },
  {
   "cell_type": "code",
   "execution_count": 6,
   "metadata": {},
   "outputs": [],
   "source": [
    "x_gp = get_gp_data_subset()\n",
    "x = gpnn.util.normalize(x_gp)"
   ]
  },
  {
   "cell_type": "markdown",
   "metadata": {},
   "source": [
    "We use a one-hot encoding, adjusted according to recent conventions to have zero mean. Accordingly, a label of e.g. 3 is converted to the 10-vector $e_3 - 0.1 \\mathbb{1} = [0, 0, 0, 3, 0, 0, 0, 0, 0, 0]^T$."
   ]
  },
  {
   "cell_type": "code",
   "execution_count": 7,
   "metadata": {},
   "outputs": [],
   "source": [
    "labels_train = convert_to_one_hot(y_train_full[0:n_train]) - 0.1\n",
    "labels_test = convert_to_one_hot(y_test_full[0:n_test]) - 0.1"
   ]
  },
  {
   "cell_type": "markdown",
   "metadata": {},
   "source": [
    "### Kernel construction\n",
    "\n",
    "Now it's time to construct the GP kernel. \n",
    "\n",
    "The kernel has two parameters corresponding to the variances in the zero-mean Gaussian priors on the neural net node weights ($\\sigma_w^2$) and biases ($\\sigma_b^2$). We'll adopt the values learned from the grid search in predictive performance accuracy from the Google Brain paper in 2017. "
   ]
  },
  {
   "cell_type": "code",
   "execution_count": 7,
   "metadata": {},
   "outputs": [],
   "source": [
    "sigma_w_sq = 1.79\n",
    "sigma_b_sq = 0.83"
   ]
  },
  {
   "cell_type": "markdown",
   "metadata": {},
   "source": [
    "The kernel also requires specification of the number 'layers'. This is the number of iterations in the recursive composition of the kernel, which mimics the layers in a deep fully-connected feed forward network. We'll choose 100 layers to match the first entry in Table 2 of the Google Brain paper."
   ]
  },
  {
   "cell_type": "code",
   "execution_count": 8,
   "metadata": {},
   "outputs": [],
   "source": [
    "L = 100"
   ]
  },
  {
   "cell_type": "markdown",
   "metadata": {},
   "source": [
    "Now, we build the kernel gram matrix for the selected training and test data using the analytic form for the ReLu activation.\n",
    "\n",
    "(This can take a couple of minutes to run.)\n"
   ]
  },
  {
   "cell_type": "code",
   "execution_count": 9,
   "metadata": {},
   "outputs": [
    {
     "name": "stdout",
     "output_type": "stream",
     "text": [
      "CPU times: user 5.44 s, sys: 387 ms, total: 5.83 s\n",
      "Wall time: 5.21 s\n"
     ]
    }
   ],
   "source": [
    "%time Ka = gpnn.kern_analytic(x, sigma_b_sq, sigma_w_sq, L=L)"
   ]
  },
  {
   "cell_type": "markdown",
   "metadata": {},
   "source": [
    "Instead, we can look at the kernel values as a function of the 'angle' between input data points, which is defined by the dot product of the 282 length image vectors."
   ]
  },
  {
   "cell_type": "code",
   "execution_count": 10,
   "metadata": {},
   "outputs": [
    {
     "data": {
      "text/plain": [
       "Text(0, 0.5, 'Kernel value')"
      ]
     },
     "execution_count": 10,
     "metadata": {},
     "output_type": "execute_result"
    },
    {
     "data": {
      "image/png": "[encoded data removed]",
      "text/plain": [
       "<Figure size 432x288 with 1 Axes>"
      ]
     },
     "metadata": {
      "needs_background": "dark"
     },
     "output_type": "display_data"
    }
   ],
   "source": [
    "cos_theta = np.dot(x, x.transpose()) / x.shape[1]\n",
    "np.fill_diagonal(cos_theta, 1.0)\n",
    "theta_deg = np.arccos(cos_theta).ravel()*180/(2*np.pi) \n",
    "plt.plot(theta_deg, Ka.ravel(), '.')\n",
    "plt.xlabel(r\"$\\theta$ (deg)\")\n",
    "plt.ylabel(\"Kernel value\")"
   ]
  },
  {
   "cell_type": "markdown",
   "metadata": {},
   "source": [
    "This shows that even after the 100 recursive compositions of the kernel and the modeling of the nonlinear ReLU activation, we still end up with kernel values that are a smooth function of the angles between input images.\n",
    "\n",
    "It's also perhaps interesting to think about the span of angles we see in the data - from ~5 degrees to ~45 degrees."
   ]
  },
  {
   "cell_type": "markdown",
   "metadata": {},
   "source": [
    "Let's look at how the shape of $K(\\theta)$ changes with increasing number of layers."
   ]
  },
  {
   "cell_type": "code",
   "execution_count": 11,
   "metadata": {},
   "outputs": [
    {
     "data": {
      "text/plain": [
       "<matplotlib.legend.Legend at 0x13d75e9b0>"
      ]
     },
     "execution_count": 11,
     "metadata": {},
     "output_type": "execute_result"
    },
    {
     "data": {
      "image/png": "[encoded data removed]",
      "text/plain": [
       "<Figure size 432x288 with 1 Axes>"
      ]
     },
     "metadata": {
      "needs_background": "dark"
     },
     "output_type": "display_data"
    }
   ],
   "source": [
    "num_layers = np.ceil(np.logspace(0, 2, 5))\n",
    "for nL in num_layers:\n",
    "    Ka = gpnn.kern_analytic(x, sigma_b_sq, sigma_w_sq, L=int(nL))\n",
    "    plt.plot(np.arccos(cos_theta).ravel()*180/(2*np.pi), Ka.ravel() / np.max(Ka), '.',\n",
    "             label=r\"L = {:d}\".format(int(nL)))\n",
    "plt.xlabel(r\"$\\theta$ (deg)\")\n",
    "plt.ylabel(\"Normalized kernel value\")\n",
    "plt.legend()"
   ]
  },
  {
   "cell_type": "markdown",
   "metadata": {},
   "source": [
    "### Label prediction for test data\n",
    "\n",
    "\n",
    "We predict the labels for the test data by computing the GP posterior mean and covariance conditioning on the training data.\n",
    "\n",
    "We need to specify a measurement 'noise' for the regression problem. For now, we treat this as an asserted parameter that can be optimized later."
   ]
  },
  {
   "cell_type": "code",
   "execution_count": 12,
   "metadata": {},
   "outputs": [],
   "source": [
    "noise_var = 1e-8"
   ]
  },
  {
   "cell_type": "code",
   "execution_count": 13,
   "metadata": {},
   "outputs": [],
   "source": [
    "post_mean, post_cov = gpnn.predict(Ka, labels_train, n_train, n_test, epsvar=noise_var)"
   ]
  },
  {
   "cell_type": "code",
   "execution_count": 14,
   "metadata": {},
   "outputs": [
    {
     "name": "stdout",
     "output_type": "stream",
     "text": [
      "Test accuracy: 0.8900\n"
     ]
    }
   ],
   "source": [
    "print(\"Test accuracy: {:5.4f}\".format(np.sum(np.equal(np.argmax(post_mean, 1), \n",
    "                                                      np.argmax(labels_test, 1))\n",
    "                                            ) / float(n_test)))"
   ]
  },
  {
   "cell_type": "markdown",
   "metadata": {},
   "source": [
    "## Computation time versus neural network in tensorflow\n",
    "https://www.tensorflow.org/tutorials/"
   ]
  },
  {
   "cell_type": "code",
   "execution_count": 15,
   "metadata": {},
   "outputs": [],
   "source": [
    "x_train = x_train_full[0:n_train, ...]\n",
    "y_train = y_train_full[0:n_train]\n",
    "x_test = x_test_full[0:n_test, ...]\n",
    "y_test = y_test_full[0:n_test]"
   ]
  },
  {
   "cell_type": "code",
   "execution_count": 16,
   "metadata": {},
   "outputs": [
    {
     "name": "stdout",
     "output_type": "stream",
     "text": [
      "WARNING:tensorflow:From /Users/priest2/.virtualenvs/madstare/lib/python3.7/site-packages/tensorflow/python/ops/resource_variable_ops.py:435: colocate_with (from tensorflow.python.framework.ops) is deprecated and will be removed in a future version.\n",
      "Instructions for updating:\n",
      "Colocations handled automatically by placer.\n",
      "WARNING:tensorflow:From /Users/priest2/.virtualenvs/madstare/lib/python3.7/site-packages/tensorflow/python/keras/layers/core.py:143: calling dropout (from tensorflow.python.ops.nn_ops) with keep_prob is deprecated and will be removed in a future version.\n",
      "Instructions for updating:\n",
      "Please use `rate` instead of `keep_prob`. Rate should be set to `rate = 1 - keep_prob`.\n",
      "Epoch 1/5\n",
      "500/500 [==============================] - 0s 433us/sample - loss: 1.5012 - acc: 0.5740\n",
      "Epoch 2/5\n",
      "500/500 [==============================] - 0s 171us/sample - loss: 0.5479 - acc: 0.8700\n",
      "Epoch 3/5\n",
      "500/500 [==============================] - 0s 174us/sample - loss: 0.3238 - acc: 0.9140\n",
      "Epoch 4/5\n",
      "500/500 [==============================] - 0s 189us/sample - loss: 0.2184 - acc: 0.9440\n",
      "Epoch 5/5\n",
      "500/500 [==============================] - 0s 181us/sample - loss: 0.1486 - acc: 0.9780\n",
      "CPU times: user 2.13 s, sys: 357 ms, total: 2.49 s\n",
      "Wall time: 925 ms\n",
      "500/500 [==============================] - 0s 166us/sample - loss: 0.4974 - acc: 0.8440\n",
      "CPU times: user 121 ms, sys: 9.59 ms, total: 131 ms\n",
      "Wall time: 98.5 ms\n"
     ]
    },
    {
     "data": {
      "text/plain": [
       "[0.4973974857330322, 0.844]"
      ]
     },
     "execution_count": 16,
     "metadata": {},
     "output_type": "execute_result"
    }
   ],
   "source": [
    "model = tf.keras.models.Sequential([\n",
    "  tf.keras.layers.Flatten(input_shape=(28, 28)),\n",
    "  tf.keras.layers.Dense(512, activation=tf.nn.relu),\n",
    "  tf.keras.layers.Dropout(0.2),\n",
    "  tf.keras.layers.Dense(10, activation=tf.nn.softmax)\n",
    "])\n",
    "model.compile(optimizer='adam',\n",
    "              loss='sparse_categorical_crossentropy',\n",
    "              metrics=['accuracy'])\n",
    "\n",
    "%time model.fit(x_train, y_train, epochs=5)\n",
    "%time model.evaluate(x_test, y_test)"
   ]
  },
  {
   "cell_type": "code",
   "execution_count": 17,
   "metadata": {},
   "outputs": [
    {
     "name": "stdout",
     "output_type": "stream",
     "text": [
      "100/100 [==============================] - 0s 55us/sample - loss: 0.4871 - acc: 0.8200\n",
      "92.7 ms ± 0 ns per loop (mean ± std. dev. of 1 run, 1 loop each)\n",
      "35.1 ms ± 0 ns per loop (mean ± std. dev. of 1 run, 1 loop each)\n",
      "200/200 [==============================] - 0s 42us/sample - loss: 0.4185 - acc: 0.8200\n",
      "154 ms ± 0 ns per loop (mean ± std. dev. of 1 run, 1 loop each)\n",
      "98.2 ms ± 0 ns per loop (mean ± std. dev. of 1 run, 1 loop each)\n",
      "300/300 [==============================] - 0s 38us/sample - loss: 0.4506 - acc: 0.8333\n",
      "208 ms ± 0 ns per loop (mean ± std. dev. of 1 run, 1 loop each)\n",
      "197 ms ± 0 ns per loop (mean ± std. dev. of 1 run, 1 loop each)\n",
      "500/500 [==============================] - 0s 46us/sample - loss: 0.4558 - acc: 0.8520\n",
      "350 ms ± 0 ns per loop (mean ± std. dev. of 1 run, 1 loop each)\n",
      "603 ms ± 0 ns per loop (mean ± std. dev. of 1 run, 1 loop each)\n",
      "700/700 [==============================] - 0s 39us/sample - loss: 0.4681 - acc: 0.8671\n",
      "469 ms ± 0 ns per loop (mean ± std. dev. of 1 run, 1 loop each)\n",
      "1.12 s ± 0 ns per loop (mean ± std. dev. of 1 run, 1 loop each)\n",
      "1000/1000 [==============================] - 0s 35us/sample - loss: 0.4254 - acc: 0.8800\n",
      "688 ms ± 0 ns per loop (mean ± std. dev. of 1 run, 1 loop each)\n",
      "2.23 s ± 0 ns per loop (mean ± std. dev. of 1 run, 1 loop each)\n",
      "2000/2000 [==============================] - 0s 31us/sample - loss: 0.4037 - acc: 0.8765\n",
      "1.3 s ± 0 ns per loop (mean ± std. dev. of 1 run, 1 loop each)\n",
      "8.83 s ± 0 ns per loop (mean ± std. dev. of 1 run, 1 loop each)\n"
     ]
    }
   ],
   "source": [
    "L = 10\n",
    "def gpnn_compute(n_train, n_test):\n",
    "    x_gp = get_gp_data_subset(n_train=n_train, n_test=n_test)\n",
    "    x = gpnn.util.normalize(x_gp)\n",
    "    labels_train = convert_to_one_hot(y_train_full[0:n_train]) - 0.1\n",
    "#     labels_test = convert_to_one_hot(y_test_full[0:n_test]) - 0.1\n",
    "    Ka = gpnn.kern_analytic(x, sigma_b_sq, sigma_w_sq, L=L)\n",
    "    post_mean, post_cov = gpnn.predict(Ka, labels_train, n_train, n_test)\n",
    "    \n",
    "def nn_compute(n_train, n_test):\n",
    "    x_train = x_train_full[0:n_train, ...]\n",
    "    y_train = y_train_full[0:n_train]\n",
    "    x_test = x_test_full[0:n_test, ...]\n",
    "    y_test = y_test_full[0:n_test]  \n",
    "    model.fit(x_train, y_train, epochs=5, verbose=False)\n",
    "    model.evaluate(x_test, y_test)\n",
    "\n",
    "n_data = [100, 200, 300, 500, 700, 1000, 2000]\n",
    "t_nn = []; t_gp = []\n",
    "for n in n_data:\n",
    "    t1 = %timeit -o -r 1 -n 1 nn_compute(n, n)\n",
    "    t2 = %timeit -o -r 1 -n 1 gpnn_compute(n, n)\n",
    "    t_nn.append(t1.average)\n",
    "    t_gp.append(t2.average)"
   ]
  },
  {
   "cell_type": "code",
   "execution_count": 18,
   "metadata": {},
   "outputs": [
    {
     "data": {
      "text/plain": [
       "<matplotlib.legend.Legend at 0x13fdf55c0>"
      ]
     },
     "execution_count": 18,
     "metadata": {},
     "output_type": "execute_result"
    },
    {
     "data": {
      "image/png": "[encoded data removed]",
      "text/plain": [
       "<Figure size 432x288 with 1 Axes>"
      ]
     },
     "metadata": {
      "needs_background": "dark"
     },
     "output_type": "display_data"
    }
   ],
   "source": [
    "plt.plot(n_data, t_nn, label=\"Tensorflow NN\")\n",
    "plt.plot(n_data, t_gp, label=\"GP\")\n",
    "plt.xlabel(\"Number of data points\")\n",
    "plt.ylabel(\"Time (sec)\")\n",
    "plt.legend()"
   ]
  },
  {
   "cell_type": "markdown",
   "metadata": {},
   "source": [
    "We have found that the NNGP yields comparable or even better results than an instantiated neural network. However, the NNGP exhibits much worse scaling due to the $O(n^3)$ term in the regression. Moreover, the authors of the Google Brain paper and others acknowledge that the recursive neural network kernel is itself expensive to compute. \n",
    "\n",
    "We will attempt to ameliorate these problems via an alternative GP model known as the \"Nearest Neighbor GP.\" We will avoid referring to it as the NNGP."
   ]
  },
  {
   "cell_type": "markdown",
   "metadata": {},
   "source": [
    "# The N4GP: Quality and Speed analysis"
   ]
  },
  {
   "cell_type": "code",
   "execution_count": 8,
   "metadata": {},
   "outputs": [],
   "source": [
    "import pyNNGP\n",
    "import ipywidgets as widgets\n",
    "\n",
    "from ipywidgets import interact\n",
    "from mpl_toolkits.mplot3d import Axes3D\n",
    "from sklearn.preprocessing import normalize"
   ]
  },
  {
   "cell_type": "code",
   "execution_count": 20,
   "metadata": {},
   "outputs": [],
   "source": [
    "x_gp = get_gp_data_subset(n_train=500, n_test=500)"
   ]
  },
  {
   "cell_type": "code",
   "execution_count": 9,
   "metadata": {},
   "outputs": [],
   "source": [
    "def n4gp_compute(n_train, n_test, L=30, sigmaSqW=1.84, sigmaSqB=0.04, noise=0.01, nNeighbors=10):\n",
    "    x_gp = get_gp_data_subset(n_train=n_train, n_test=n_test)\n",
    "    x_train = x[0:n_train]\n",
    "    x_test = x[n_train:]\n",
    "    labels_train = convert_to_one_hot(y_train_full[0:n_train]) - 0.1\n",
    "    labels_test = convert_to_one_hot(y_test_full[0:n_test]) - 0.1\n",
    "    \n",
    "    covModel = pyNNGP.NNKernel(\n",
    "        L=L, sigmaSqW=sigmaSqW, sigmaSqB=sigmaSqB\n",
    "    )\n",
    "    \n",
    "    noiseModel = pyNNGP.ConstHomogeneousNoiseModel(noise)\n",
    "\n",
    "    distFunc = pyNNGP.DotProduct()\n",
    "\n",
    "    # fit the model\n",
    "    n4gp = pyNNGP.SeqNNGP(\n",
    "        labels_train, x_train,\n",
    "        nNeighbors=nNeighbors,\n",
    "        covModel=covModel,\n",
    "        distFunc=distFunc,\n",
    "        noiseModel=noiseModel,\n",
    "        normalize=True\n",
    "    )\n",
    "#     labels_test = convert_to_one_hot(y_test_full[0:n_test]) - 0.1\n",
    "    post_mean = n4gp.MAPPredict(x_test)\n",
    "    return post_mean"
   ]
  },
  {
   "cell_type": "code",
   "execution_count": 1,
   "metadata": {},
   "outputs": [
    {
     "ename": "NameError",
     "evalue": "name 'n4gp_compute' is not defined",
     "output_type": "error",
     "traceback": [
      "\u001b[0;31m---------------------------------------------------------------------------\u001b[0m",
      "\u001b[0;31mNameError\u001b[0m                                 Traceback (most recent call last)",
      "\u001b[0;32m<ipython-input-1-4600b4564063>\u001b[0m in \u001b[0;36m<module>\u001b[0;34m\u001b[0m\n\u001b[0;32m----> 1\u001b[0;31m \u001b[0mpost_mean\u001b[0m \u001b[0;34m=\u001b[0m \u001b[0mn4gp_compute\u001b[0m\u001b[0;34m(\u001b[0m\u001b[0;36m500\u001b[0m\u001b[0;34m,\u001b[0m \u001b[0;36m500\u001b[0m\u001b[0;34m)\u001b[0m\u001b[0;34m\u001b[0m\u001b[0;34m\u001b[0m\u001b[0m\n\u001b[0m",
      "\u001b[0;31mNameError\u001b[0m: name 'n4gp_compute' is not defined"
     ]
    }
   ],
   "source": [
    "post_mean = n4gp_compute(500, 500)"
   ]
  },
  {
   "cell_type": "code",
   "execution_count": null,
   "metadata": {},
   "outputs": [],
   "source": []
  },
  {
   "cell_type": "code",
   "execution_count": null,
   "metadata": {},
   "outputs": [],
   "source": []
  },
  {
   "cell_type": "code",
   "execution_count": null,
   "metadata": {},
   "outputs": [],
   "source": []
  },
  {
   "cell_type": "code",
   "execution_count": null,
   "metadata": {},
   "outputs": [],
   "source": []
  },
  {
   "cell_type": "code",
   "execution_count": null,
   "metadata": {},
   "outputs": [],
   "source": []
  },
  {
   "cell_type": "code",
   "execution_count": null,
   "metadata": {},
   "outputs": [],
   "source": [
    "w_samples = []\n",
    "for i in range(30):\n",
    "    nngp.sample(10)\n",
    "    w_samples.append(np.copy(nngp.w))"
   ]
  },
  {
   "cell_type": "code",
   "execution_count": null,
   "metadata": {},
   "outputs": [],
   "source": []
  },
  {
   "cell_type": "code",
   "execution_count": null,
   "metadata": {},
   "outputs": [],
   "source": []
  },
  {
   "cell_type": "code",
   "execution_count": null,
   "metadata": {},
   "outputs": [],
   "source": []
  },
  {
   "cell_type": "code",
   "execution_count": null,
   "metadata": {},
   "outputs": [],
   "source": []
  },
  {
   "cell_type": "code",
   "execution_count": null,
   "metadata": {},
   "outputs": [],
   "source": []
  },
  {
   "cell_type": "code",
   "execution_count": null,
   "metadata": {},
   "outputs": [],
   "source": []
  },
  {
   "cell_type": "code",
   "execution_count": null,
   "metadata": {},
   "outputs": [],
   "source": []
  },
  {
   "cell_type": "code",
   "execution_count": null,
   "metadata": {},
   "outputs": [],
   "source": []
  }
 ],
 "metadata": {
  "@webio": {
   "lastCommId": null,
   "lastKernelId": null
  },
  "kernelspec": {
   "display_name": "Python 3",
   "language": "python",
   "name": "python3"
  },
  "language_info": {
   "codemirror_mode": {
    "name": "ipython",
    "version": 3
   },
   "file_extension": ".py",
   "mimetype": "text/x-python",
   "name": "python",
   "nbconvert_exporter": "python",
   "pygments_lexer": "ipython3",
   "version": "3.7.3"
  },
  "toc": {
   "base_numbering": 1,
   "nav_menu": {},
   "number_sections": true,
   "sideBar": true,
   "skip_h1_title": false,
   "title_cell": "Table of Contents",
   "title_sidebar": "Contents",
   "toc_cell": false,
   "toc_position": {},
   "toc_section_display": true,
   "toc_window_display": false
  }
 },
 "nbformat": 4,
 "nbformat_minor": 2
}
