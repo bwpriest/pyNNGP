{
 "cells": [
  {
   "cell_type": "code",
   "execution_count": 1,
   "metadata": {
    "ExecuteTime": {
     "end_time": "2019-05-23T22:05:52.615309Z",
     "start_time": "2019-05-23T22:05:52.597015Z"
    }
   },
   "outputs": [],
   "source": [
    "import numpy as np\n",
    "import pyNNGP\n",
    "import matplotlib.pyplot as plt\n",
    "import ipywidgets as widgets\n",
    "\n",
    "from ipywidgets import interact\n",
    "from mpl_toolkits.mplot3d import Axes3D\n",
    "from sklearn.preprocessing import normalize\n",
    "\n",
    "%matplotlib inline"
   ]
  },
  {
   "cell_type": "markdown",
   "metadata": {},
   "source": [
    "## 2d Example\n",
    "We consider a function on two inputs given by \n",
    "$$\n",
    "f(x, y) = \\sin(5xy) + \\sin \\left (5 \\frac{x}{y} \\right).\n",
    "$$\n",
    "We uniformly sample 3000 pairs of coordinates on $[0, 1]^2$, assuming that they are perturbed by $\\mathcal{N} \\left(0, \\frac{1}{4} \\right)$ noise."
   ]
  },
  {
   "cell_type": "code",
   "execution_count": 2,
   "metadata": {
    "ExecuteTime": {
     "end_time": "2019-05-23T23:55:29.927865Z",
     "start_time": "2019-05-23T23:55:25.180359Z"
    }
   },
   "outputs": [],
   "source": [
    "import numpy as np\n",
    "import pyNNGP\n",
    "\n",
    "n = 600\n",
    "nstar = 3000\n",
    "m = 6\n",
    "np.random.seed(5)\n",
    "coords = np.random.uniform(0, 1, size=(n, 2))\n",
    "s = np.argsort(coords[:,0])\n",
    "coords = coords[s]\n",
    "\n",
    "def f(x, y):\n",
    "    return np.sin(5 * x * y) + np.sin(5 * x / y)\n",
    "\n",
    "w = f(coords[:, 0], coords[:, 1])\n",
    "eps = 0.25\n",
    "noise = np.random.normal(0, eps, size=n)\n",
    "y = w + noise\n",
    "\n",
    "covModel = pyNNGP.SqExp(\n",
    "    sigmaSq=0.5, \n",
    "    phi=5.0, phiUnifa=1.0, phiUnifb=50.0, phiTuning=1.0, \n",
    "    sigmaSqIGa=0.04, sigmaSqIGb=0.04\n",
    ")\n",
    "\n",
    "noiseModel = pyNNGP.ConstHomogeneousNoiseModel(0.01)\n",
    "\n",
    "distFunc = pyNNGP.Euclidean()\n",
    "\n",
    "compFunc = pyNNGP.Lesser()\n",
    "\n",
    "nngp = pyNNGP.SeqNNGP(\n",
    "    y, coords,\n",
    "    nNeighbors=m,\n",
    "    covModel=covModel,\n",
    "    distFunc=distFunc,\n",
    "    compFunc=compFunc,\n",
    "    noiseModel=noiseModel\n",
    ")\n",
    "\n",
    "burn_in = 20\n",
    "nngp.sample(burn_in)\n",
    "\n",
    "n_samples = 20\n",
    "w_samples = []\n",
    "for i in range(n_samples):\n",
    "#     print(\"Iteration {}\".format(i))\n",
    "    nngp.sample(10)\n",
    "    w_samples.append(np.copy(nngp.w))\n",
    "w_samples = np.array(w_samples)\n",
    "w_sample = np.mean(w_samples, axis=0)\n",
    "\n",
    "w_map = nngp.predict(coords.T, 10)\n",
    "w_map = w_map.reshape((n))\n",
    "\n",
    "newcoords = np.random.uniform(0, 1, size=(nstar, 2))\n",
    "s = np.argsort(newcoords[:,0])\n",
    "newcoords = newcoords[s]\n",
    "\n",
    "wstar = f(newcoords[:, 0], newcoords[:, 1])\n",
    "noisestar = np.random.normal(0, 0.25, size=nstar)\n",
    "ystar = wstar + noisestar\n",
    "\n",
    "wstar_sample = nngp.predict(newcoords.T, 40, 50)\n",
    "wstar_sample = wstar_sample.reshape((nstar))"
   ]
  },
  {
   "cell_type": "code",
   "execution_count": null,
   "metadata": {},
   "outputs": [],
   "source": [
    "distMat = np.array([[np.linalg.norm(coords[x, :] - coords[y, :]) for x in range(n)] for y in range(n)])\n",
    "covMat = np.array([[nngp.covModel.cov(distMat[x, y]) for x in range(n)] for y in range(n)]) + 0.5 * np.eye(n)\n",
    "np.fill_diagonal(covMat, 1.0)\n",
    "# invCovMat = np.linalg.inv(covMat)\n",
    "crossdist = np.array([[np.linalg.norm(coords[y, :] - newcoords[x,:]) for y in range(n)] for x in range(nstar)])\n",
    "crosscov = np.array([[nngp.covModel.cov(crossdist[x, y]) for y in range(n)] for x in range(nstar)])"
   ]
  },
  {
   "cell_type": "code",
   "execution_count": null,
   "metadata": {},
   "outputs": [],
   "source": [
    "wstar_qf = [nngp.quadratic_form(crosscov[i, :], y) for i in range(nstar)]"
   ]
  },
  {
   "cell_type": "code",
   "execution_count": null,
   "metadata": {},
   "outputs": [],
   "source": [
    "wstar_dense = np.dot(crosscov, np.linalg.solve(covMat + 0.01 * np.eye(n), y))"
   ]
  },
  {
   "cell_type": "markdown",
   "metadata": {},
   "source": [
    "Let's plot the resulting surface"
   ]
  },
  {
   "cell_type": "code",
   "execution_count": null,
   "metadata": {
    "ExecuteTime": {
     "end_time": "2019-05-23T23:55:29.927865Z",
     "start_time": "2019-05-23T23:55:25.180359Z"
    }
   },
   "outputs": [],
   "source": [
    "fig, axes = plt.subplots(ncols=2, figsize=(8, 3.5))\n",
    "for ax in axes:\n",
    "    ax.tick_params(colors=\"darkkhaki\")\n",
    "i0 = axes[0].scatter(\n",
    "    coords[:,0], coords[:,1],\n",
    "    c=y, s=5,\n",
    "    vmin=-2, vmax=2, cmap='seismic'\n",
    ")\n",
    "# plt.colorbar(i0, axes[0])\n",
    "axes[0].set_title(\"train data\", fontsize=20, color=\"orange\")\n",
    "i1 = axes[1].scatter(\n",
    "    newcoords[:,0], newcoords[:,1],\n",
    "    c=ystar, s=5,\n",
    "    vmin=-2, vmax=2, cmap='seismic'\n",
    ")    \n",
    "# plt.colorbar(i1, axes[1])\n",
    "axes[1].set_title(\"test data\", fontsize=20, color=\"orange\")\n",
    "plt.show()"
   ]
  },
  {
   "cell_type": "markdown",
   "metadata": {},
   "source": [
    "We will train an NNGP to model this surface. We specify the model below, using the squared exponential kernel and conditioning the likelihood of each training observation on at most 3 others."
   ]
  },
  {
   "cell_type": "code",
   "execution_count": null,
   "metadata": {
    "scrolled": true
   },
   "outputs": [],
   "source": [
    "@interact(i=widgets.IntSlider(min=0, max=len(w_samples)-1, value=0))\n",
    "def f(i):\n",
    "    fig, axes = plt.subplots(ncols=3, figsize=(14, 3.5))\n",
    "    for ax in axes:\n",
    "        ax.tick_params(colors=\"darkkhaki\")\n",
    "    i0 = axes[0].scatter(\n",
    "        coords[:,0], coords[:,1], \n",
    "        c=w, s=5,\n",
    "        vmin=-1, vmax=1, cmap='seismic'\n",
    "    )    \n",
    "    plt.colorbar(i0, ax=axes[0])\n",
    "    axes[0].set_title(\"train data\", fontsize=20, color=\"orange\")\n",
    "    i1 = axes[1].scatter(\n",
    "        coords[:,0], coords[:,1],\n",
    "        c=w_samples[i], s=5,\n",
    "        vmin=-1, vmax=1, cmap='seismic'\n",
    "    )    \n",
    "    plt.colorbar(i1, ax=axes[1])\n",
    "    axes[1].set_title(\"Estimates\", fontsize=20, color=\"orange\")\n",
    "    i2 = axes[2].scatter(\n",
    "        coords[:,0], coords[:,1],\n",
    "        c=w_samples[i]-w, s=5,\n",
    "        vmin=-1, vmax=1, cmap='seismic'\n",
    "    )\n",
    "    plt.colorbar(i2, ax=axes[2])\n",
    "    axes[2].set_title(\"Residual\", fontsize=20, color=\"orange\")\n",
    "    plt.show()"
   ]
  },
  {
   "cell_type": "code",
   "execution_count": null,
   "metadata": {
    "scrolled": false
   },
   "outputs": [],
   "source": [
    "fig, axes = plt.subplots(nrows=2, ncols=4, figsize=(17.5, 7))\n",
    "for axar in axes:\n",
    "    for ax in axar:\n",
    "        ax.tick_params(colors=\"darkkhaki\")\n",
    "\"\"\"\n",
    "Sampled data\n",
    "\"\"\"\n",
    "i00 = axes[0,0].scatter(\n",
    "    coords[:,0], coords[:,1], \n",
    "    c=w, s=5,\n",
    "    vmin=-2, vmax=2, cmap='seismic'\n",
    ")\n",
    "plt.setp(plt.getp(plt.colorbar(i00, ax=axes[0,0]).ax.axes, \"yticklabels\"), color=\"darkkhaki\")\n",
    "axes[0,0].set_title(\"train data\", fontsize=20, color=\"orange\")\n",
    "axes[0,0].set_ylabel(\"Mean Sample\", fontsize=20, color=\"orange\")\n",
    "i01 = axes[0,1].scatter(\n",
    "    coords[:,0], coords[:,1],\n",
    "    c=w_sample, s=5,\n",
    "    vmin=-2, vmax=2, cmap='seismic'\n",
    ")    \n",
    "plt.setp(plt.getp(plt.colorbar(i01, ax=axes[0,1]).ax.axes, \"yticklabels\"), color=\"darkkhaki\")\n",
    "axes[0,1].set_title(\"Estimation\", fontsize=20, color=\"orange\")\n",
    "i02 = axes[0,2].scatter(\n",
    "    coords[:,0], coords[:,1],\n",
    "    c=w_sample-w, s=5,\n",
    "    vmin=-2, vmax=2, cmap='seismic'\n",
    ")\n",
    "plt.setp(plt.getp(plt.colorbar(i02, ax=axes[0,2]).ax.axes, \"yticklabels\"), color=\"darkkhaki\")\n",
    "axes[0,2].set_title(\"Residual\", fontsize=20, color=\"orange\")\n",
    "i03 = axes[0,3].hist(w_sample - w)\n",
    "axes[0,3].set_title(\"Residual Histogram\", fontsize=20, color=\"orange\")\n",
    "\"\"\"\n",
    "MAP data\n",
    "\"\"\"\n",
    "i10 = axes[1,0].scatter(\n",
    "    coords[:,0], coords[:,1], \n",
    "    c=w, s=5,\n",
    "    vmin=-2, vmax=2, cmap='seismic'\n",
    ")    \n",
    "plt.setp(plt.getp(plt.colorbar(i10, ax=axes[1,0]).ax.axes, \"yticklabels\"), color=\"darkkhaki\")\n",
    "axes[1,0].set_ylabel(\"MAP Estimate\", fontsize=20, color=\"orange\")\n",
    "i11 = axes[1,1].scatter(\n",
    "    coords[:,0], coords[:,1],\n",
    "    c=w_map, s=5,\n",
    "    vmin=-2, vmax=2, cmap='seismic'\n",
    ")    \n",
    "plt.setp(plt.getp(plt.colorbar(i11, ax=axes[1,1]).ax.axes, \"yticklabels\"), color=\"darkkhaki\")\n",
    "i12 = axes[1,2].scatter(\n",
    "    coords[:,0], coords[:,1],\n",
    "    c=w_map-w, s=5,\n",
    "    vmin=-2, vmax=2, cmap='seismic'\n",
    ")\n",
    "plt.setp(plt.getp(plt.colorbar(i12, ax=axes[1,2]).ax.axes, \"yticklabels\"), color=\"darkkhaki\")\n",
    "i13 = axes[1,3].hist(w_map - w)\n",
    "plt.show()"
   ]
  },
  {
   "cell_type": "markdown",
   "metadata": {},
   "source": [
    "Now we will normalize the coordinates to project onto the unit circle."
   ]
  },
  {
   "cell_type": "code",
   "execution_count": null,
   "metadata": {},
   "outputs": [],
   "source": [
    "from sklearn.gaussian_process import GaussianProcessRegressor as GPR\n",
    "from sklearn.gaussian_process.kernels import RBF, ConstantKernel as C\n",
    "\n",
    "# Instantiate a Gaussian Process model\n",
    "kernel = C(1.0, (1e-3, 1e3)) * RBF(10, (1e-2, 1e2))\n",
    "gp = GPR(kernel=kernel, alpha=eps ** 2, n_restarts_optimizer=9)\n",
    "# Fit to data using Maximum Likelihood Estimation of the parameters\n",
    "gp.fit(coords, y)\n",
    "# Make the prediction on the meshed x-axis (ask for MSE as well)\n",
    "wstar_gp, sigma = gp.predict(newcoords, return_std=True)"
   ]
  },
  {
   "cell_type": "code",
   "execution_count": null,
   "metadata": {
    "scrolled": false
   },
   "outputs": [],
   "source": [
    "fig, axes = plt.subplots(ncols=4, nrows=4, figsize=(19, 17))\n",
    "for axar in axes:\n",
    "    for ax in axar:\n",
    "        ax.tick_params(colors=\"darkkhaki\")\n",
    "\"\"\"\n",
    "Full sklearn GPR\n",
    "\"\"\"\n",
    "i00 = axes[0,0].scatter(\n",
    "    newcoords[:,0], newcoords[:,1], c=wstar, s=5, vmin=-2, vmax=2, cmap='seismic'\n",
    ")    \n",
    "plt.setp(plt.getp(plt.colorbar(i00, ax=axes[0,0]).ax.axes, \"yticklabels\"), color=\"darkkhaki\")\n",
    "axes[0,0].set_title(\"test data\", fontsize=20, color=\"orange\")\n",
    "axes[0,0].set_ylabel(\"sklearn\", fontsize=20, color=\"orange\")\n",
    "i01 = axes[0,1].scatter(\n",
    "    newcoords[:,0], newcoords[:,1], c=wstar_gp, s=5, vmin=-2, vmax=2, cmap='seismic'\n",
    ")    \n",
    "plt.setp(plt.getp(plt.colorbar(i01, ax=axes[0,1]).ax.axes, \"yticklabels\"), color=\"darkkhaki\")\n",
    "axes[0,1].set_title(\"Interpolation\", fontsize=20, color=\"orange\")\n",
    "i02 = axes[0,2].scatter(\n",
    "    newcoords[:,0], newcoords[:,1], c=wstar_gp-wstar, s=5, vmin=-2, vmax=2, cmap='seismic'\n",
    ")\n",
    "plt.setp(plt.getp(plt.colorbar(i02, ax=axes[0,2]).ax.axes, \"yticklabels\"), color=\"darkkhaki\")\n",
    "axes[0,2].set_title(\"Residual\", fontsize=20, color=\"orange\")\n",
    "i03 = axes[0,3].hist(wstar_gp - wstar)\n",
    "axes[0,3].set_title(\"Residual Histogram\", fontsize=20, color=\"orange\")\n",
    "\"\"\"\n",
    "Full GPR using NNGP trained hyperparameters\n",
    "\"\"\"\n",
    "i10 = axes[1,0].scatter(\n",
    "    newcoords[:,0], newcoords[:,1], c=wstar, s=5, vmin=-2, vmax=2, cmap='seismic'\n",
    ")    \n",
    "plt.setp(plt.getp(plt.colorbar(i10, ax=axes[1,0]).ax.axes, \"yticklabels\"), color=\"darkkhaki\")\n",
    "axes[1,0].set_ylabel(\"NNGP hyperparams\", fontsize=20, color=\"orange\")\n",
    "i11 = axes[1,1].scatter(\n",
    "    newcoords[:,0], newcoords[:,1], c=wstar_dense, s=5, vmin=-2, vmax=2, cmap='seismic'\n",
    ")    \n",
    "plt.setp(plt.getp(plt.colorbar(i11, ax=axes[1,1]).ax.axes, \"yticklabels\"), color=\"darkkhaki\")\n",
    "i12 = axes[1,2].scatter(\n",
    "    newcoords[:,0], newcoords[:,1], c=wstar_dense-wstar, s=5, vmin=-2, vmax=2, cmap='seismic'\n",
    ")\n",
    "plt.setp(plt.getp(plt.colorbar(i12, ax=axes[1,2]).ax.axes, \"yticklabels\"), color=\"darkkhaki\")\n",
    "i13 = axes[1,3].hist(wstar_dense - wstar)\n",
    "\"\"\"\n",
    "Sparse GPR using NNGP trained hyperparameters\n",
    "\"\"\"\n",
    "i20 = axes[2,0].scatter(\n",
    "    newcoords[:,0], newcoords[:,1], c=wstar, s=5, vmin=-2, vmax=2, cmap='seismic'\n",
    ")    \n",
    "plt.setp(plt.getp(plt.colorbar(i20, ax=axes[2,0]).ax.axes, \"yticklabels\"), color=\"darkkhaki\")\n",
    "axes[2,0].set_ylabel(\"NNGP regression\", fontsize=20, color=\"orange\")\n",
    "i21 = axes[2,1].scatter(\n",
    "    newcoords[:,0], newcoords[:,1], c=wstar_qf, s=5, vmin=-20, vmax=20, cmap='seismic'\n",
    ")    \n",
    "plt.setp(plt.getp(plt.colorbar(i21, ax=axes[2,1]).ax.axes, \"yticklabels\"), color=\"red\", size=12)\n",
    "i22 = axes[2,2].scatter(\n",
    "    newcoords[:,0], newcoords[:,1], c=wstar_qf-wstar, s=5, vmin=-20, vmax=20, cmap='seismic'\n",
    ")\n",
    "plt.setp(plt.getp(plt.colorbar(i22, ax=axes[2,2]).ax.axes, \"yticklabels\"), color=\"red\", size=12)\n",
    "# truncated_buckets = np.array([wstar_qf[i] - wstar[i] for i in range(nstar) if np.abs(wstar_qf[i] - wstar[i]) < 2])\n",
    "# i23 = axes[2,3].hist(truncated_buckets)\n",
    "i23 = axes[2,3].hist(wstar_qf - wstar)\n",
    "axes[2,3].tick_params(colors=\"red\", size=12)\n",
    "\"\"\"\n",
    "Sampled GPR using NNGP trained hyperparameters\n",
    "\"\"\"\n",
    "i30 = axes[3,0].scatter(\n",
    "    newcoords[:,0], newcoords[:,1], c=wstar, s=5, vmin=-2, vmax=2, cmap='seismic'\n",
    ")    \n",
    "plt.setp(plt.getp(plt.colorbar(i30, ax=axes[3,0]).ax.axes, \"yticklabels\"), color=\"darkkhaki\")\n",
    "axes[3,0].set_ylabel(\"NNGP Sample\", fontsize=20, color=\"orange\")\n",
    "i31 = axes[3,1].scatter(\n",
    "    newcoords[:,0], newcoords[:,1], c=wstar_sample, s=5, vmin=-2, vmax=2, cmap='seismic'\n",
    ")    \n",
    "plt.setp(plt.getp(plt.colorbar(i31, ax=axes[3,1]).ax.axes, \"yticklabels\"), color=\"darkkhaki\")\n",
    "i32 = axes[3,2].scatter(\n",
    "    newcoords[:,0], newcoords[:,1], c=wstar_sample-wstar, s=5, vmin=-2, vmax=2, cmap='seismic'\n",
    ")\n",
    "plt.setp(plt.getp(plt.colorbar(i32, ax=axes[3,2]).ax.axes, \"yticklabels\"), color=\"darkkhaki\")\n",
    "i33 = axes[3,3].hist(wstar_sample - wstar)\n",
    "plt.show()"
   ]
  },
  {
   "cell_type": "code",
   "execution_count": null,
   "metadata": {},
   "outputs": [],
   "source": []
  }
 ],
 "metadata": {
  "@webio": {
   "lastCommId": null,
   "lastKernelId": null
  },
  "kernelspec": {
   "display_name": "Python 3",
   "language": "python",
   "name": "python3"
  },
  "language_info": {
   "codemirror_mode": {
    "name": "ipython",
    "version": 3
   },
   "file_extension": ".py",
   "mimetype": "text/x-python",
   "name": "python",
   "nbconvert_exporter": "python",
   "pygments_lexer": "ipython3",
   "version": "3.7.3"
  },
  "toc": {
   "base_numbering": 1,
   "nav_menu": {},
   "number_sections": true,
   "sideBar": true,
   "skip_h1_title": false,
   "title_cell": "Table of Contents",
   "title_sidebar": "Contents",
   "toc_cell": false,
   "toc_position": {},
   "toc_section_display": true,
   "toc_window_display": false
  }
 },
 "nbformat": 4,
 "nbformat_minor": 2
}
