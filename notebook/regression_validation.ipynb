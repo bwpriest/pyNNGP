{
 "cells": [
  {
   "cell_type": "code",
   "execution_count": 1,
   "metadata": {
    "ExecuteTime": {
     "end_time": "2019-05-23T22:05:52.615309Z",
     "start_time": "2019-05-23T22:05:52.597015Z"
    }
   },
   "outputs": [],
   "source": [
    "import numpy as np\n",
    "import pyNNGP\n",
    "import matplotlib.pyplot as plt\n",
    "import ipywidgets as widgets\n",
    "\n",
    "from ipywidgets import interact\n",
    "from mpl_toolkits.mplot3d import Axes3D\n",
    "from sklearn.preprocessing import normalize\n",
    "\n",
    "%matplotlib inline"
   ]
  },
  {
   "cell_type": "markdown",
   "metadata": {},
   "source": [
    "## 2d Example\n",
    "We consider a function on two inputs given by \n",
    "$$\n",
    "f(x, y) = \\sin(5xy) + \\sin \\left (5 \\frac{x}{y} \\right).\n",
    "$$\n",
    "We uniformly sample 3000 pairs of coordinates on $[0, 1]^2$, assuming that they are perturbed by $\\mathcal{N} \\left(0, \\frac{1}{4} \\right)$ noise."
   ]
  },
  {
   "cell_type": "code",
   "execution_count": 2,
   "metadata": {
    "ExecuteTime": {
     "end_time": "2019-05-23T23:55:29.927865Z",
     "start_time": "2019-05-23T23:55:25.180359Z"
    }
   },
   "outputs": [],
   "source": [
    "import numpy as np\n",
    "import pyNNGP\n",
    "\n",
    "n = 100\n",
    "m = 99\n",
    "np.random.seed(5)\n",
    "coords = np.random.uniform(0, 1, size=(n, 2))\n",
    "s = np.argsort(coords[:,0])\n",
    "coords = coords[s]\n",
    "\n",
    "def f(x, y):\n",
    "    return np.sin(5 * x * y) + np.sin(5 * x / y)\n",
    "\n",
    "w = f(coords[:, 0], coords[:, 1])\n",
    "noise = np.random.normal(0, 0.25, size=n)\n",
    "y = w + noise\n",
    "\n",
    "covModel = pyNNGP.SqExp(\n",
    "    sigmaSq=0.5, \n",
    "    phi=5.0, phiUnifa=1.0, phiUnifb=50.0, phiTuning=1.0, \n",
    "    sigmaSqIGa=0.04, sigmaSqIGb=0.04\n",
    ")\n",
    "\n",
    "noiseModel = pyNNGP.ConstHomogeneousNoiseModel(0.01)\n",
    "\n",
    "distFunc = pyNNGP.Euclidean()\n",
    "\n",
    "nngp = pyNNGP.SeqNNGP(\n",
    "    y, coords,\n",
    "    nNeighbors=m,\n",
    "    covModel=covModel,\n",
    "    distFunc=distFunc,\n",
    "    noiseModel=noiseModel\n",
    ")\n",
    "\n",
    "w_samples = []\n",
    "for i in range(20):\n",
    "    nngp.sample(10)\n",
    "    w_samples.append(np.copy(nngp.w))\n",
    "\n",
    "distMat = np.array([[np.linalg.norm(coords[x, :] - coords[y, :]) for x in range(n)] for y in range(n)])\n",
    "covMat = np.array([[nngp.covModel.cov(distMat[x, y]) for x in range(n)] for y in range(n)]) + 0.5 * np.eye(n)\n",
    "w_map, Xstar = nngp.MAPPredict(coords.T)"
   ]
  },
  {
   "cell_type": "markdown",
   "metadata": {},
   "source": [
    "Let's plot the resulting surface"
   ]
  },
  {
   "cell_type": "code",
   "execution_count": 3,
   "metadata": {
    "ExecuteTime": {
     "end_time": "2019-05-23T23:55:29.927865Z",
     "start_time": "2019-05-23T23:55:25.180359Z"
    }
   },
   "outputs": [
    {
     "data": {
      "image/png": "[encoded data removed]",
      "text/plain": [
       "<Figure size 432x288 with 2 Axes>"
      ]
     },
     "metadata": {
      "needs_background": "light"
     },
     "output_type": "display_data"
    }
   ],
   "source": [
    "plt.scatter(\n",
    "    coords[:,0], coords[:,1],\n",
    "    c=y, s=5,\n",
    "    vmin=-1, vmax=1, cmap='seismic'\n",
    ")\n",
    "plt.colorbar()\n",
    "plt.show()"
   ]
  },
  {
   "cell_type": "markdown",
   "metadata": {},
   "source": [
    "We will train an NNGP to model this surface. We specify the model below, using the squared exponential kernel and conditioning the likelihood of each training observation on at most 3 others."
   ]
  },
  {
   "cell_type": "code",
   "execution_count": 4,
   "metadata": {},
   "outputs": [],
   "source": [
    "# covModel = pyNNGP.SqExp(\n",
    "#     sigmaSq=0.5, \n",
    "#     phi=5.0, phiUnifa=1.0, phiUnifb=50.0, phiTuning=1.0, \n",
    "#     sigmaSqIGa=0.04, sigmaSqIGb=0.04\n",
    "# )\n",
    "\n",
    "# noiseModel = pyNNGP.ConstHomogeneousNoiseModel(0.01)\n",
    "\n",
    "# distFunc = pyNNGP.Euclidean()\n",
    "\n",
    "# nngp = pyNNGP.SeqNNGP(\n",
    "#     y, coords,\n",
    "#     nNeighbors=m,\n",
    "#     covModel=covModel,\n",
    "#     distFunc=distFunc,\n",
    "#     noiseModel=noiseModel\n",
    "# )"
   ]
  },
  {
   "cell_type": "code",
   "execution_count": 5,
   "metadata": {},
   "outputs": [
    {
     "data": {
      "text/plain": [
       "(100, 2)"
      ]
     },
     "execution_count": 5,
     "metadata": {},
     "output_type": "execute_result"
    }
   ],
   "source": [
    "coords.shape"
   ]
  },
  {
   "cell_type": "code",
   "execution_count": 6,
   "metadata": {},
   "outputs": [],
   "source": [
    "# w_samples = []\n",
    "# for i in range(30):\n",
    "#     nngp.sample(10)\n",
    "#     w_samples.append(np.copy(nngp.w))"
   ]
  },
  {
   "cell_type": "code",
   "execution_count": 7,
   "metadata": {
    "scrolled": true
   },
   "outputs": [
    {
     "data": {
      "application/vnd.jupyter.widget-view+json": {
       "model_id": "8a8861ad3d1b4526a289a9813d043025",
       "version_major": 2,
       "version_minor": 0
      },
      "text/plain": [
       "interactive(children=(IntSlider(value=0, description='i', max=19), Output()), _dom_classes=('widget-interact',…"
      ]
     },
     "metadata": {},
     "output_type": "display_data"
    }
   ],
   "source": [
    "@interact(i=widgets.IntSlider(min=0, max=len(w_samples)-1, value=0))\n",
    "def f(i):\n",
    "    fig, axes = plt.subplots(ncols=3, figsize=(14, 3.5))\n",
    "    i0 = axes[0].scatter(\n",
    "        coords[:,0], coords[:,1], \n",
    "        c=w, s=5,\n",
    "        vmin=-1, vmax=1, cmap='seismic'\n",
    "    )    \n",
    "    plt.colorbar(i0, ax=axes[0])\n",
    "    i1 = axes[1].scatter(\n",
    "        coords[:,0], coords[:,1],\n",
    "        c=w_samples[i], s=5,\n",
    "        vmin=-1, vmax=1, cmap='seismic'\n",
    "    )    \n",
    "    plt.colorbar(i1, ax=axes[1])\n",
    "    i2 = axes[2].scatter(\n",
    "        coords[:,0], coords[:,1],\n",
    "        c=w_samples[i]-w, s=5,\n",
    "        vmin=-1, vmax=1, cmap='seismic'\n",
    "    )\n",
    "    plt.colorbar(i2, ax=axes[2])\n",
    "    plt.show()"
   ]
  },
  {
   "cell_type": "code",
   "execution_count": 8,
   "metadata": {},
   "outputs": [],
   "source": [
    "w_map, Xstar = nngp.MAPPredict(coords.T)"
   ]
  },
  {
   "cell_type": "code",
   "execution_count": 9,
   "metadata": {},
   "outputs": [],
   "source": [
    "w_map = w_map.reshape((n))"
   ]
  },
  {
   "cell_type": "code",
   "execution_count": 10,
   "metadata": {},
   "outputs": [
    {
     "data": {
      "text/plain": [
       "(100,)"
      ]
     },
     "execution_count": 10,
     "metadata": {},
     "output_type": "execute_result"
    }
   ],
   "source": [
    "w_map.shape"
   ]
  },
  {
   "cell_type": "code",
   "execution_count": 11,
   "metadata": {},
   "outputs": [
    {
     "data": {
      "image/png": "[encoded data removed]",
      "text/plain": [
       "<Figure size 1008x252 with 6 Axes>"
      ]
     },
     "metadata": {
      "needs_background": "light"
     },
     "output_type": "display_data"
    }
   ],
   "source": [
    "fig, axes = plt.subplots(ncols=3, figsize=(14, 3.5))\n",
    "i0 = axes[0].scatter(\n",
    "    coords[:,0], coords[:,1], \n",
    "    c=w, s=5,\n",
    "    vmin=-1, vmax=1, cmap='seismic'\n",
    ")    \n",
    "plt.colorbar(i0, ax=axes[0])\n",
    "i1 = axes[1].scatter(\n",
    "    coords[:,0], coords[:,1],\n",
    "    c=w_map, s=5,\n",
    "    vmin=-1, vmax=1, cmap='seismic'\n",
    ")    \n",
    "plt.colorbar(i1, ax=axes[1])\n",
    "i2 = axes[2].scatter(\n",
    "    coords[:,0], coords[:,1],\n",
    "    c=w_map-w, s=5,\n",
    "    vmin=-1, vmax=1, cmap='seismic'\n",
    ")\n",
    "plt.colorbar(i2, ax=axes[2])\n",
    "plt.show()"
   ]
  },
  {
   "cell_type": "markdown",
   "metadata": {},
   "source": [
    "Now we will normalize the coordinates to project onto the unit circle."
   ]
  },
  {
   "cell_type": "code",
   "execution_count": 12,
   "metadata": {},
   "outputs": [
    {
     "data": {
      "image/png": "[encoded data removed]",
      "text/plain": [
       "<Figure size 1008x252 with 2 Axes>"
      ]
     },
     "metadata": {
      "needs_background": "light"
     },
     "output_type": "display_data"
    }
   ],
   "source": [
    "fig, axes = plt.subplots(ncols=2, figsize=(14, 3.5))\n",
    "i0 = axes[0].hist(w_samples[-1] - w)    \n",
    "i1 = axes[1].hist(w_map - w)\n",
    "plt.show()"
   ]
  },
  {
   "cell_type": "code",
   "execution_count": null,
   "metadata": {},
   "outputs": [],
   "source": []
  }
 ],
 "metadata": {
  "@webio": {
   "lastCommId": null,
   "lastKernelId": null
  },
  "kernelspec": {
   "display_name": "Python 3",
   "language": "python",
   "name": "python3"
  },
  "language_info": {
   "codemirror_mode": {
    "name": "ipython",
    "version": 3
   },
   "file_extension": ".py",
   "mimetype": "text/x-python",
   "name": "python",
   "nbconvert_exporter": "python",
   "pygments_lexer": "ipython3",
   "version": "3.7.3"
  },
  "toc": {
   "base_numbering": 1,
   "nav_menu": {},
   "number_sections": true,
   "sideBar": true,
   "skip_h1_title": false,
   "title_cell": "Table of Contents",
   "title_sidebar": "Contents",
   "toc_cell": false,
   "toc_position": {},
   "toc_section_display": true,
   "toc_window_display": false
  }
 },
 "nbformat": 4,
 "nbformat_minor": 2
}
