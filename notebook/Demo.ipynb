{
 "cells": [
  {
   "cell_type": "code",
   "execution_count": null,
   "metadata": {},
   "outputs": [],
   "source": [
    "import numpy as np\n",
    "import pyNNGP\n",
    "import matplotlib.pyplot as plt\n",
    "import ipywidgets as widgets\n",
    "from ipywidgets import interact\n",
    "%matplotlib inline"
   ]
  },
  {
   "cell_type": "code",
   "execution_count": null,
   "metadata": {
    "scrolled": false
   },
   "outputs": [],
   "source": [
    "n = 1000\n",
    "m = 2\n",
    "np.random.seed(5)\n",
    "coords = np.random.uniform(0, 1, size=(n, 2))\n",
    "s = np.argsort(coords[:,0])\n",
    "coords = coords[s]\n",
    "def f(x, y):\n",
    "    return np.sin(10*x*y)\n",
    "w = f(coords[:,0], coords[:,1])\n",
    "X = np.ones((n,1), dtype=float)\n",
    "beta = np.array([1])\n",
    "y = X.dot(beta) + w + np.random.normal(0, 0.05, size=n)\n",
    "\n",
    "plt.scatter(coords[:,0], coords[:,1], c=y)\n",
    "plt.colorbar()\n",
    "plt.show()\n",
    "\n",
    "covModel = pyNNGP.SqExp(0.5, 10.0, 1.0, 100.0, 3.0, 1.0, 1.0)\n",
    "nngp = pyNNGP.SeqNNGP(y, X, coords, 3, covModel, 1e-3)\n",
    "print(nngp.beta)\n",
    "\n",
    "w_samples = []\n",
    "beta_samples = []\n",
    "\n",
    "for i in range(20):\n",
    "    nngp.sample(50)\n",
    "    w_samples.append(np.copy(nngp.w))\n",
    "    beta_samples.append(np.copy(nngp.beta))"
   ]
  },
  {
   "cell_type": "code",
   "execution_count": null,
   "metadata": {},
   "outputs": [],
   "source": [
    "@interact(i=widgets.IntSlider(min=0, max=19, value=0))\n",
    "def f(i):\n",
    "    plt.scatter(coords[:,0], coords[:,1], c=w_samples[i]+X.dot(beta_samples[i])-y, vmin=-0.1, vmax=0.1)\n",
    "    plt.colorbar()"
   ]
  },
  {
   "cell_type": "code",
   "execution_count": null,
   "metadata": {},
   "outputs": [],
   "source": []
  }
 ],
 "metadata": {
  "kernelspec": {
   "display_name": "Python 3",
   "language": "python",
   "name": "python3"
  },
  "language_info": {
   "codemirror_mode": {
    "name": "ipython",
    "version": 3
   },
   "file_extension": ".py",
   "mimetype": "text/x-python",
   "name": "python",
   "nbconvert_exporter": "python",
   "pygments_lexer": "ipython3",
   "version": "3.6.6"
  }
 },
 "nbformat": 4,
 "nbformat_minor": 2
}
