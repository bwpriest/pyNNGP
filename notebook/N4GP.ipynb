{
 "cells": [
  {
   "cell_type": "code",
   "execution_count": 1,
   "metadata": {},
   "outputs": [],
   "source": [
    "import numpy as np\n",
    "import matplotlib.pyplot as plt\n",
    "# %matplotlib inline\n",
    "import gpnn\n",
    "import pyNNGP\n",
    "import ipywidgets as widgets\n",
    "\n",
    "from ipywidgets import interact\n",
    "from mpl_toolkits.mplot3d import Axes3D\n",
    "from sklearn.preprocessing import normalize\n",
    "from jupyterthemes import jtplot\n",
    "\n",
    "# currently installed theme will be used to\n",
    "# set plot style if no arguments provided\n",
    "jtplot.style(context='notebook', fscale=1.5, figsize=(8.0, 8.0/1.618))\n",
    "import tensorflow as tf\n",
    "mnist_keras = tf.keras.datasets.mnist\n",
    "(x_train_full, y_train_full),(x_test_full, y_test_full) = mnist_keras.load_data()\n",
    "x_train_full, x_test_full = x_train_full / 255.0, x_test_full / 255.0\n",
    "\n",
    "im_nx, im_ny = x_train_full.shape[1:3]\n",
    "\n",
    "def convert_to_one_hot(a, num_labels=10):\n",
    "    b = np.zeros((a.shape[0], num_labels))\n",
    "    b[np.arange(a.shape[0]), a] = 1\n",
    "    return b\n",
    "\n",
    "def get_gp_data_subset(n_train=500, n_test=500):\n",
    "    x_flat = np.row_stack((x_train_full[0:n_train, ...].reshape((n_train, im_nx*im_ny)),\n",
    "                           x_test_full[0:n_test, ...].reshape(n_test, im_nx*im_ny)))\n",
    "    return x_flat\n",
    "\n",
    "n_train = 500\n",
    "n_test = 500\n",
    "\n",
    "x_gp = get_gp_data_subset()\n",
    "x = gpnn.util.normalize(x_gp)\n",
    "x /= 28.\n",
    "\n",
    "x_train = x[0:n_train]\n",
    "x_test = x[n_train:]\n",
    "labels_train = convert_to_one_hot(y_train_full[0:n_train]) - 0.1\n",
    "labels_test = convert_to_one_hot(y_test_full[0:n_test]) - 0.1\n",
    "\n",
    "nNeighbors = 6\n",
    "noise = 0.25\n",
    "sigmaSqW = 1.79\n",
    "sigmaSqB = 0.83\n",
    "L = 10\n",
    "\n",
    "covModel = pyNNGP.NNKernel(\n",
    "    L=L, sigmaSqW=sigmaSqW, sigmaSqB=sigmaSqB\n",
    ")\n",
    "    \n",
    "noiseModel = pyNNGP.ConstHomogeneousNoiseModel(noise)\n",
    "\n",
    "distFunc = pyNNGP.DotProduct()\n",
    "\n",
    "compFunc = pyNNGP.Greater()\n",
    "# fit the model\n",
    "n4gp = pyNNGP.SeqNNGP(\n",
    "    labels_train, x_train,\n",
    "    nNeighbors=nNeighbors,\n",
    "    covModel=covModel,\n",
    "    distFunc=distFunc,\n",
    "    compFunc=compFunc,\n",
    "    noiseModel=noiseModel,\n",
    "    normalize=True\n",
    ")"
   ]
  },
  {
   "cell_type": "code",
   "execution_count": 2,
   "metadata": {},
   "outputs": [
    {
     "data": {
      "text/plain": [
       "(500, 10)"
      ]
     },
     "execution_count": 2,
     "metadata": {},
     "output_type": "execute_result"
    }
   ],
   "source": [
    "labels_train.shape"
   ]
  },
  {
   "cell_type": "code",
   "execution_count": 3,
   "metadata": {
    "scrolled": false
   },
   "outputs": [
    {
     "data": {
      "image/png": "[encoded data removed]",
      "text/plain": [
       "<Figure size 864x432 with 15 Axes>"
      ]
     },
     "metadata": {
      "needs_background": "dark"
     },
     "output_type": "display_data"
    }
   ],
   "source": [
    "fig = plt.figure(figsize=(12,6))\n",
    "for i in range(15):\n",
    "    plt.subplot(3, 5, i+1)\n",
    "    plt.imshow(x_train_full[i,:,:], cmap=plt.cm.gray_r)"
   ]
  },
  {
   "cell_type": "code",
   "execution_count": 4,
   "metadata": {
    "scrolled": true
   },
   "outputs": [],
   "source": [
    "wstar_sample = n4gp.predict_targets(x_test.T, labels_train, 40, 50)"
   ]
  },
  {
   "cell_type": "code",
   "execution_count": 5,
   "metadata": {},
   "outputs": [
    {
     "data": {
      "text/plain": [
       "(10, 500)"
      ]
     },
     "execution_count": 5,
     "metadata": {},
     "output_type": "execute_result"
    }
   ],
   "source": [
    "wstar_sample.shape"
   ]
  },
  {
   "cell_type": "code",
   "execution_count": 6,
   "metadata": {},
   "outputs": [
    {
     "data": {
      "text/plain": [
       "array([-0.08000253, -0.00365482,  0.01402018,  0.06642103,  0.03573256,\n",
       "       -0.00231223, -0.01141435, -0.01532159, -0.09219532,  0.00841315])"
      ]
     },
     "execution_count": 6,
     "metadata": {},
     "output_type": "execute_result"
    }
   ],
   "source": [
    "wstar_sample[:,0]"
   ]
  },
  {
   "cell_type": "code",
   "execution_count": 9,
   "metadata": {},
   "outputs": [
    {
     "name": "stdout",
     "output_type": "stream",
     "text": [
      "Test accuracy: 0.0920\n"
     ]
    }
   ],
   "source": [
    "print(\"Test accuracy: {:5.4f}\".format(np.sum(np.equal(np.argmax(wstar_sample.T, 1), \n",
    "                                                      np.argmax(labels_test, 1))\n",
    "                                            ) / float(n_test)))"
   ]
  },
  {
   "cell_type": "code",
   "execution_count": null,
   "metadata": {},
   "outputs": [],
   "source": []
  }
 ],
 "metadata": {
  "@webio": {
   "lastCommId": null,
   "lastKernelId": null
  },
  "kernelspec": {
   "display_name": "Python 3",
   "language": "python",
   "name": "python3"
  },
  "language_info": {
   "codemirror_mode": {
    "name": "ipython",
    "version": 3
   },
   "file_extension": ".py",
   "mimetype": "text/x-python",
   "name": "python",
   "nbconvert_exporter": "python",
   "pygments_lexer": "ipython3",
   "version": "3.7.3"
  },
  "toc": {
   "base_numbering": 1,
   "nav_menu": {},
   "number_sections": true,
   "sideBar": true,
   "skip_h1_title": false,
   "title_cell": "Table of Contents",
   "title_sidebar": "Contents",
   "toc_cell": false,
   "toc_position": {},
   "toc_section_display": true,
   "toc_window_display": false
  }
 },
 "nbformat": 4,
 "nbformat_minor": 2
}
